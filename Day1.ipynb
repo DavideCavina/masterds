{
 "cells": [
  {
   "cell_type": "code",
   "execution_count": null,
   "id": "4b532d85-8e2b-46ae-9133-7cd8ea7063ab",
   "metadata": {},
   "outputs": [],
   "source": [
    "if 10>5:\n",
    "    print(\"Ten is greater than five!\")"
   ]
  },
  {
   "cell_type": "code",
   "execution_count": null,
   "id": "5744a76d-82bc-4ced-a059-2f13cbbde347",
   "metadata": {},
   "outputs": [],
   "source": [
    "def sum(a, b):\n",
    "    result = a+b\n",
    "    return result\n",
    "\n",
    "sum(5, 1)"
   ]
  },
  {
   "cell_type": "code",
   "execution_count": null,
   "id": "959d85e6-ec4e-4972-9aad-070ef2d77352",
   "metadata": {},
   "outputs": [],
   "source": [
    "age = 30"
   ]
  },
  {
   "cell_type": "code",
   "execution_count": null,
   "id": "e697a5f9-8615-44fa-b045-1e0704ae3c26",
   "metadata": {},
   "outputs": [],
   "source": [
    "age = \"thirty\""
   ]
  },
  {
   "cell_type": "code",
   "execution_count": null,
   "id": "261e7218-74f3-497e-9c9a-0aab57f69a05",
   "metadata": {},
   "outputs": [],
   "source": [
    "type(age)"
   ]
  },
  {
   "cell_type": "code",
   "execution_count": null,
   "id": "012916a7-b260-4439-b1fe-8ca9f310c5da",
   "metadata": {},
   "outputs": [],
   "source": [
    "prova=False\n",
    "prova*5"
   ]
  },
  {
   "cell_type": "code",
   "execution_count": null,
   "id": "1a23f80b-afb7-4110-8fbf-e263ba0ad8a1",
   "metadata": {},
   "outputs": [],
   "source": [
    "(10>5)>1.5"
   ]
  },
  {
   "cell_type": "code",
   "execution_count": null,
   "id": "3f9680fe-2508-4928-b24e-8c58eaf27b6a",
   "metadata": {},
   "outputs": [],
   "source": [
    "f=3.94\n",
    "int(f)"
   ]
  },
  {
   "cell_type": "code",
   "execution_count": null,
   "id": "5f66e465-68a1-45a6-a555-0162c6324147",
   "metadata": {},
   "outputs": [],
   "source": [
    "float(int(3.94))"
   ]
  },
  {
   "cell_type": "code",
   "execution_count": null,
   "id": "89e31524-b69f-4f41-9d58-59f2a4da00fa",
   "metadata": {},
   "outputs": [],
   "source": [
    "(3//5)+(3%5)"
   ]
  },
  {
   "cell_type": "code",
   "execution_count": 3,
   "id": "a6fa460a-8128-4d8e-aa04-f5134622d167",
   "metadata": {},
   "outputs": [
    {
     "name": "stdout",
     "output_type": "stream",
     "text": [
      "Input two numbers\n"
     ]
    },
    {
     "name": "stdin",
     "output_type": "stream",
     "text": [
      "Enter x:  10\n",
      "Enter y:  50\n"
     ]
    },
    {
     "name": "stdout",
     "output_type": "stream",
     "text": [
      "Please insert two integer numbers\n"
     ]
    },
    {
     "name": "stdin",
     "output_type": "stream",
     "text": [
      "Enter x:  ciao\n",
      "Enter y:  50\n"
     ]
    },
    {
     "ename": "ValueError",
     "evalue": "invalid literal for int() with base 10: 'ciao'",
     "output_type": "error",
     "traceback": [
      "\u001b[0;31m---------------------------------------------------------------------------\u001b[0m",
      "\u001b[0;31mValueError\u001b[0m                                Traceback (most recent call last)",
      "Cell \u001b[0;32mIn[3], line 7\u001b[0m\n\u001b[1;32m      5\u001b[0m x\u001b[38;5;241m=\u001b[39m\u001b[38;5;28minput\u001b[39m(\u001b[38;5;124m\"\u001b[39m\u001b[38;5;124mEnter x: \u001b[39m\u001b[38;5;124m\"\u001b[39m)\n\u001b[1;32m      6\u001b[0m y\u001b[38;5;241m=\u001b[39m\u001b[38;5;28minput\u001b[39m(\u001b[38;5;124m\"\u001b[39m\u001b[38;5;124mEnter y: \u001b[39m\u001b[38;5;124m\"\u001b[39m)\n\u001b[0;32m----> 7\u001b[0m \u001b[38;5;28;01mif\u001b[39;00m \u001b[38;5;28;43mint\u001b[39;49m\u001b[43m(\u001b[49m\u001b[43mx\u001b[49m\u001b[43m)\u001b[49m \u001b[38;5;241m==\u001b[39m \u001b[38;5;28;01mTrue\u001b[39;00m \u001b[38;5;129;01mand\u001b[39;00m \u001b[38;5;28mint\u001b[39m(y) \u001b[38;5;241m==\u001b[39m \u001b[38;5;28;01mTrue\u001b[39;00m:\n\u001b[1;32m      8\u001b[0m     \u001b[38;5;28msum\u001b[39m\u001b[38;5;241m=\u001b[39m\u001b[38;5;28mint\u001b[39m(x)\u001b[38;5;241m+\u001b[39m\u001b[38;5;28mint\u001b[39m(y)\n\u001b[1;32m      9\u001b[0m     \u001b[38;5;28mprint\u001b[39m(\u001b[38;5;124m\"\u001b[39m\u001b[38;5;124mThe sum is: \u001b[39m\u001b[38;5;124m\"\u001b[39m \u001b[38;5;241m+\u001b[39m \u001b[38;5;28mstr\u001b[39m(\u001b[38;5;28msum\u001b[39m))\n",
      "\u001b[0;31mValueError\u001b[0m: invalid literal for int() with base 10: 'ciao'"
     ]
    }
   ],
   "source": [
    "print(\"Input two numbers\")\n",
    "x=\" \"\n",
    "y=\" \"\n",
    "while type(x) != int or type(y) != int:\n",
    "    x=input(\"Enter x: \")\n",
    "    y=input(\"Enter y: \")\n",
    "    if int(x) == True and int(y) == True:\n",
    "        sum=int(x)+int(y)\n",
    "        print(\"The sum is: \" + str(sum))\n",
    "    else:\n",
    "        print(\"Please insert two integer numbers\")"
   ]
  },
  {
   "cell_type": "code",
   "execution_count": 14,
   "id": "607472bc-7435-427c-b22c-37b636dd5387",
   "metadata": {},
   "outputs": [
    {
     "data": {
      "text/plain": [
       "'o'"
      ]
     },
     "execution_count": 14,
     "metadata": {},
     "output_type": "execute_result"
    }
   ],
   "source": [
    "s = \"Today we have a strike in Milan\"\n",
    "s[1]"
   ]
  },
  {
   "cell_type": "code",
   "execution_count": 21,
   "id": "80d928ae-e704-4d1b-926b-663b652f029c",
   "metadata": {},
   "outputs": [
    {
     "name": "stdout",
     "output_type": "stream",
     "text": [
      "the sum of 10 and 5 is 15\n"
     ]
    }
   ],
   "source": [
    "a=10\n",
    "b=5\n",
    "\n",
    "print(f\"the sum of {a} and {b} is {a+b}\")"
   ]
  }
 ],
 "metadata": {
  "kernelspec": {
   "display_name": "masterds",
   "language": "python",
   "name": "masterds"
  },
  "language_info": {
   "codemirror_mode": {
    "name": "ipython",
    "version": 3
   },
   "file_extension": ".py",
   "mimetype": "text/x-python",
   "name": "python",
   "nbconvert_exporter": "python",
   "pygments_lexer": "ipython3",
   "version": "3.11.11"
  }
 },
 "nbformat": 4,
 "nbformat_minor": 5
}

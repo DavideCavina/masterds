{
 "cells": [
  {
   "cell_type": "code",
   "execution_count": 7,
   "id": "3fdfea4d-5d82-4fa7-a6d1-083bac9005e6",
   "metadata": {},
   "outputs": [
    {
     "name": "stdout",
     "output_type": "stream",
     "text": [
      "Hello 0\n",
      "Hello 1\n",
      "Hello 2\n",
      "Hello 3\n",
      "Hello 4\n"
     ]
    }
   ],
   "source": [
    "for n in range(5):\n",
    "    print(f\"Hello {n}\")"
   ]
  },
  {
   "cell_type": "code",
   "execution_count": 9,
   "id": "1b08446c-6a39-4fc7-b119-b3b555a034ce",
   "metadata": {},
   "outputs": [
    {
     "name": "stdout",
     "output_type": "stream",
     "text": [
      "0\n",
      "1\n",
      "2\n",
      "3\n",
      "4\n",
      "5\n"
     ]
    }
   ],
   "source": [
    "counter = 0\n",
    "while counter <= 5:\n",
    "    print(counter)\n",
    "    counter += 1"
   ]
  },
  {
   "cell_type": "code",
   "execution_count": 12,
   "id": "b24eaf38-0c0c-4ff5-b8c7-d7ccf603dc36",
   "metadata": {},
   "outputs": [
    {
     "data": {
      "text/plain": [
       "list"
      ]
     },
     "execution_count": 12,
     "metadata": {},
     "output_type": "execute_result"
    }
   ],
   "source": [
    "multi_dim_list=[\n",
    "    [1,2,3],\n",
    "    [4,5,6]\n",
    "]\n",
    "\n",
    "multi_dim_list\n",
    "type(multi_dim_list)"
   ]
  },
  {
   "cell_type": "code",
   "execution_count": 15,
   "id": "07b67ed7-8d5a-4b87-857a-937afd39093c",
   "metadata": {},
   "outputs": [
    {
     "data": {
      "text/plain": [
       "6"
      ]
     },
     "execution_count": 15,
     "metadata": {},
     "output_type": "execute_result"
    }
   ],
   "source": [
    "multi_dim_list[1][2]"
   ]
  },
  {
   "cell_type": "code",
   "execution_count": 16,
   "id": "5ca63297-9908-497f-a832-a4ec48e46841",
   "metadata": {},
   "outputs": [
    {
     "name": "stdout",
     "output_type": "stream",
     "text": [
      "1\n",
      "2\n",
      "3\n",
      "4\n",
      "5\n",
      "6\n"
     ]
    }
   ],
   "source": [
    "for i in [0,1]:\n",
    "    for j in [0,1,2]:\n",
    "        print(multi_dim_list[i][j])"
   ]
  },
  {
   "cell_type": "code",
   "execution_count": 25,
   "id": "76baccb3-19fd-4436-bcaa-332f0e2ec51c",
   "metadata": {},
   "outputs": [
    {
     "name": "stdin",
     "output_type": "stream",
     "text": [
      "Please enter an even number dfefrew\n"
     ]
    },
    {
     "name": "stdout",
     "output_type": "stream",
     "text": [
      "Please enter a number not a string\n"
     ]
    },
    {
     "name": "stdin",
     "output_type": "stream",
     "text": [
      "Please enter an even number 5\n"
     ]
    },
    {
     "name": "stdout",
     "output_type": "stream",
     "text": [
      "Please enter an EVEN number\n"
     ]
    },
    {
     "name": "stdin",
     "output_type": "stream",
     "text": [
      "Please enter an even number 4\n"
     ]
    },
    {
     "name": "stdout",
     "output_type": "stream",
     "text": [
      "4 is an even number\n"
     ]
    }
   ],
   "source": [
    "'''\n",
    "while True:\n",
    "    x = input(\"Please give me an even number: \")\n",
    "    try:\n",
    "        x=int(x)\n",
    "        break\n",
    "    except ValueError:\n",
    "        print(\"Please, enter a number.\")\n",
    "'''\n",
    "\n",
    "while True:\n",
    "    x=input(\"Please enter an even number\")\n",
    "    if x.isnumeric():\n",
    "        if int(x)%2==0:\n",
    "            print(f\"{x} is an even number\")\n",
    "            break\n",
    "        else:\n",
    "            print(\"Please enter an EVEN number\")\n",
    "    else:\n",
    "        print(\"Please enter a number not a string\")\n"
   ]
  },
  {
   "cell_type": "code",
   "execution_count": 23,
   "id": "21efb154-47d5-45d0-84a7-da22810f4f24",
   "metadata": {},
   "outputs": [
    {
     "name": "stdin",
     "output_type": "stream",
     "text": [
      "Enter an even number: fdv\n"
     ]
    },
    {
     "name": "stdout",
     "output_type": "stream",
     "text": [
      "fdv is not even a number come on!\n"
     ]
    },
    {
     "name": "stdin",
     "output_type": "stream",
     "text": [
      "Enter an even number: 5\n"
     ]
    },
    {
     "name": "stdout",
     "output_type": "stream",
     "text": [
      "Sorry, 5 is not an even number\n"
     ]
    },
    {
     "name": "stdin",
     "output_type": "stream",
     "text": [
      "Enter an even number: 4\n"
     ]
    },
    {
     "name": "stdout",
     "output_type": "stream",
     "text": [
      "thanks 4 is an even number\n"
     ]
    }
   ],
   "source": [
    "can_exit = False\n",
    "while (not can_exit):\n",
    "    n = input(\"Enter an even number:\")\n",
    "    if n.isnumeric():\n",
    "        if int(n) % 2 == 0:\n",
    "            print(f\"thanks {n} is an even number\")\n",
    "            can_exit = True\n",
    "        else:\n",
    "            print(f\"Sorry, {n} is not an even number\")\n",
    "    else:\n",
    "        print(f\"{n} is not even a number come on!\")"
   ]
  },
  {
   "cell_type": "code",
   "execution_count": null,
   "id": "e0dfca82-1363-407f-a673-253cd1594fa6",
   "metadata": {},
   "outputs": [],
   "source": []
  }
 ],
 "metadata": {
  "kernelspec": {
   "display_name": "masterds",
   "language": "python",
   "name": "masterds"
  },
  "language_info": {
   "codemirror_mode": {
    "name": "ipython",
    "version": 3
   },
   "file_extension": ".py",
   "mimetype": "text/x-python",
   "name": "python",
   "nbconvert_exporter": "python",
   "pygments_lexer": "ipython3",
   "version": "3.11.11"
  }
 },
 "nbformat": 4,
 "nbformat_minor": 5
}

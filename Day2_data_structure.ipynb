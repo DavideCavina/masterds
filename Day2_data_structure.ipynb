{
 "cells": [
  {
   "cell_type": "markdown",
   "id": "a89c3b55-c863-4f21-bbcf-0fbacae49e2a",
   "metadata": {},
   "source": [
    "# List: Ordered , mutable collection of elements"
   ]
  },
  {
   "cell_type": "code",
   "execution_count": 1,
   "id": "ea17d6a3-ee94-428d-8800-d02bf611fbf5",
   "metadata": {},
   "outputs": [
    {
     "data": {
      "text/plain": [
       "list"
      ]
     },
     "execution_count": 1,
     "metadata": {},
     "output_type": "execute_result"
    }
   ],
   "source": [
    "my_list = [1,2,3, \"Hello\", False, 4.5]\n",
    "type(my_list)"
   ]
  },
  {
   "cell_type": "code",
   "execution_count": 2,
   "id": "5b2482f4-47cb-407f-8f78-c9766a571a36",
   "metadata": {},
   "outputs": [
    {
     "name": "stdout",
     "output_type": "stream",
     "text": [
      "[1, 2, 3, 'Hello', False, 4.5]\n"
     ]
    }
   ],
   "source": [
    "print(my_list)"
   ]
  },
  {
   "cell_type": "code",
   "execution_count": 14,
   "id": "135997e8-62c0-46e4-a1a9-670771014994",
   "metadata": {},
   "outputs": [
    {
     "data": {
      "text/plain": [
       "[1,\n",
       " 3,\n",
       " 'Hello',\n",
       " False,\n",
       " 4.5,\n",
       " 'new element',\n",
       " 'new element',\n",
       " 'new element',\n",
       " 'new element',\n",
       " 'new element',\n",
       " 'new element',\n",
       " 'new element2',\n",
       " 'new element3',\n",
       " 'new element2']"
      ]
     },
     "execution_count": 14,
     "metadata": {},
     "output_type": "execute_result"
    }
   ],
   "source": [
    "my_list.append(\"new element\")\n",
    "my_list"
   ]
  },
  {
   "cell_type": "code",
   "execution_count": 15,
   "id": "c722eb82-0a62-44e0-a2ea-540b2fab11f1",
   "metadata": {},
   "outputs": [
    {
     "data": {
      "text/plain": [
       "[1,\n",
       " 3,\n",
       " 'Hello',\n",
       " False,\n",
       " 4.5,\n",
       " 'new element',\n",
       " 'new element',\n",
       " 'new element',\n",
       " 'new element',\n",
       " 'new element',\n",
       " 'new element',\n",
       " 'new element3',\n",
       " 'new element2']"
      ]
     },
     "execution_count": 15,
     "metadata": {},
     "output_type": "execute_result"
    }
   ],
   "source": [
    "my_list.remove(\"new element2\")\n",
    "my_list"
   ]
  },
  {
   "cell_type": "code",
   "execution_count": 17,
   "id": "90a4ac2e-3e6c-4014-a87d-88818c8604d5",
   "metadata": {},
   "outputs": [
    {
     "data": {
      "text/plain": [
       "4.5"
      ]
     },
     "execution_count": 17,
     "metadata": {},
     "output_type": "execute_result"
    }
   ],
   "source": [
    "my_list[4]"
   ]
  },
  {
   "cell_type": "markdown",
   "id": "309bb10b-cbc3-4a12-bfd1-fecfa2aa5021",
   "metadata": {},
   "source": [
    "# **Tuples**: ordered, non-mutable collection of elements"
   ]
  },
  {
   "cell_type": "code",
   "execution_count": 16,
   "id": "7db800f2-2899-46fc-9c50-3247c2e9542d",
   "metadata": {},
   "outputs": [
    {
     "data": {
      "text/plain": [
       "('apple', 'banana', 'cherry')"
      ]
     },
     "execution_count": 16,
     "metadata": {},
     "output_type": "execute_result"
    }
   ],
   "source": [
    "my_tuple = (\"apple\", \"banana\", \"cherry\")\n",
    "my_tuple"
   ]
  },
  {
   "cell_type": "code",
   "execution_count": 18,
   "id": "afa15904-a0fb-4152-b69f-0c8241a51fd5",
   "metadata": {},
   "outputs": [
    {
     "data": {
      "text/plain": [
       "'banana'"
      ]
     },
     "execution_count": 18,
     "metadata": {},
     "output_type": "execute_result"
    }
   ],
   "source": [
    "my_tuple[1]"
   ]
  },
  {
   "cell_type": "markdown",
   "id": "4b4dac4a-6696-417f-b858-3638ea155d5e",
   "metadata": {},
   "source": [
    "# Dictionarie: unordered, mutable collection of elements"
   ]
  },
  {
   "cell_type": "code",
   "execution_count": 25,
   "id": "7a9e5be9-fd88-4343-aa12-fd96d77630d0",
   "metadata": {},
   "outputs": [
    {
     "data": {
      "text/plain": [
       "[{'name': 'Steven', 'age': 30, 'location': 'France'},\n",
       " {'name': 'Alice', 'age': 18, 'location': 'United States'}]"
      ]
     },
     "execution_count": 25,
     "metadata": {},
     "output_type": "execute_result"
    }
   ],
   "source": [
    "my_dict = {\n",
    "    \"name\": \"Steven\",\n",
    "    \"age\": 30,\n",
    "    \"location\": \"France\"\n",
    "}\n",
    "\n",
    "my_dict2 = {\n",
    "    \"name\": \"Alice\",\n",
    "    \"age\": 18,\n",
    "    \"location\": \"United States\"\n",
    "}\n",
    "\n",
    "my_complex_list = [my_dict, my_dict2]\n",
    "my_complex_list"
   ]
  },
  {
   "cell_type": "code",
   "execution_count": 23,
   "id": "4e229fac-3b5d-4778-a233-9dcca0b317cd",
   "metadata": {},
   "outputs": [
    {
     "data": {
      "text/plain": [
       "{'name': 'Alice', 'age': 18, 'location': ('apple', 'banana', 'cherry')}"
      ]
     },
     "execution_count": 23,
     "metadata": {},
     "output_type": "execute_result"
    }
   ],
   "source": [
    "my_dict[\"location\"]= my_tuple\n",
    "my_dict"
   ]
  },
  {
   "cell_type": "markdown",
   "id": "7dcc2e54-b2e1-4b02-9625-65164fa5025f",
   "metadata": {},
   "source": [
    "# **Sets**: unordered, mutable, collection of unique elements"
   ]
  },
  {
   "cell_type": "code",
   "execution_count": 26,
   "id": "9d347849-6bab-48a5-aae9-319940c4a0b6",
   "metadata": {},
   "outputs": [
    {
     "data": {
      "text/plain": [
       "{1, 2, 3, 4, 5}"
      ]
     },
     "execution_count": 26,
     "metadata": {},
     "output_type": "execute_result"
    }
   ],
   "source": [
    "my_set = {1,2,3,4,5}\n",
    "my_set"
   ]
  },
  {
   "cell_type": "code",
   "execution_count": 27,
   "id": "fd65c71a-72d9-4f3d-97b1-479a74e7c762",
   "metadata": {},
   "outputs": [
    {
     "data": {
      "text/plain": [
       "{1, 2, 3, 4, 5}"
      ]
     },
     "execution_count": 27,
     "metadata": {},
     "output_type": "execute_result"
    }
   ],
   "source": [
    "my_set = {1,2,3,4,5, 2, 4, 4, 4}\n",
    "my_set"
   ]
  },
  {
   "cell_type": "code",
   "execution_count": 31,
   "id": "b1d61bbc-05c6-461f-a59a-67836b54c1c3",
   "metadata": {},
   "outputs": [
    {
     "name": "stdout",
     "output_type": "stream",
     "text": [
      "True\n",
      "True\n",
      "True\n",
      "True\n",
      "True\n",
      "False\n",
      "False\n",
      "False\n",
      "False\n"
     ]
    }
   ],
   "source": [
    "list=(1,2,3,4,5,6,7,8,9)\n",
    "for i in list:\n",
    "    print(i in my_set)"
   ]
  }
 ],
 "metadata": {
  "kernelspec": {
   "display_name": "masterds",
   "language": "python",
   "name": "masterds"
  },
  "language_info": {
   "codemirror_mode": {
    "name": "ipython",
    "version": 3
   },
   "file_extension": ".py",
   "mimetype": "text/x-python",
   "name": "python",
   "nbconvert_exporter": "python",
   "pygments_lexer": "ipython3",
   "version": "3.11.11"
  }
 },
 "nbformat": 4,
 "nbformat_minor": 5
}

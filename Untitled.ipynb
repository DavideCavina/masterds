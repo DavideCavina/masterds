{
 "cells": [
  {
   "cell_type": "code",
   "execution_count": null,
   "id": "7e1d3615-6656-4200-9aa9-f9818614e1e8",
   "metadata": {},
   "outputs": [],
   "source": [
    "if 10>5:\n",
    "    print(\"10 bigger than 5\")\n",
    "elif 10 > 9:\n",
    "    print(\"10 bigger than 9\")\n",
    "print(\"Hello\")"
   ]
  },
  {
   "cell_type": "code",
   "execution_count": null,
   "id": "de969e95-1d6c-4067-8bb5-0f62c42c34cb",
   "metadata": {},
   "outputs": [],
   "source": [
    "x=input(\"Please, input a number: \")\n",
    "\n",
    "if x > 0:\n",
    "    print(f\"{x} is positive\")\n",
    "elif x < 0:\n",
    "    print(f\"{x} is negative\")\n",
    "elif x == 0:\n",
    "    print(f\"{x} is equal to zero\")\n",
    "else:\n",
    "    print(\"ERROR\")"
   ]
  },
  {
   "cell_type": "code",
   "execution_count": 1,
   "id": "0d4ec8c7-b485-46a6-8fbf-f9ecee88792c",
   "metadata": {},
   "outputs": [
    {
     "name": "stdin",
     "output_type": "stream",
     "text": [
      "Enter the age:  -100\n",
      "Enter the age:  10\n"
     ]
    },
    {
     "name": "stdout",
     "output_type": "stream",
     "text": [
      "Child\n"
     ]
    }
   ],
   "source": [
    "age=int(input(\"Enter the age: \"))\n",
    "while age < 0:\n",
    "    age=int(input(\"Enter the age: \"))\n",
    "    if age >= 0:\n",
    "        break\n",
    "if age < 13:\n",
    "    print(f\"Child\")\n",
    "elif x < 19:\n",
    "    print(f\"teenager\")\n",
    "elif x < 65:\n",
    "    print(f\"adult\")\n",
    "else:\n",
    "    print(f\"senior\")\n",
    "\n"
   ]
  },
  {
   "cell_type": "code",
   "execution_count": 4,
   "id": "2a3e5a43-d300-4423-b100-b3a2c10bcad5",
   "metadata": {},
   "outputs": [
    {
     "name": "stdin",
     "output_type": "stream",
     "text": [
      "Enter the grade:  -11\n",
      "Enter the grade:  55\n"
     ]
    },
    {
     "name": "stdout",
     "output_type": "stream",
     "text": [
      "Your evaluation is F\n"
     ]
    }
   ],
   "source": [
    "g=int(input(\"Enter the grade: \"))\n",
    "g1=\"\"\n",
    "while g < 0:\n",
    "    g=int(input(\"Enter the grade: \"))\n",
    "    if g >= 0:\n",
    "        break\n",
    "if g < 60:\n",
    "    g1=\"F\"\n",
    "elif g < 70:\n",
    "    g1=\"D\"\n",
    "elif g < 80:\n",
    "    g1=\"C\"\n",
    "elif g < 90:\n",
    "    g1=\"B\"\n",
    "else:\n",
    "    g1=\"A\"\n",
    "        \n",
    "\n",
    "print(f\"Your evaluation is {g1}\")\n",
    "\n",
    "    "
   ]
  },
  {
   "cell_type": "code",
   "execution_count": 5,
   "id": "1e34d6db-a617-4ca0-bc6d-7323b4823118",
   "metadata": {},
   "outputs": [],
   "source": [
    "def xor(a: bool, b: bool):\n",
    "    if a and not b:\n",
    "        return True\n",
    "    elif not a and b:\n",
    "        return True\n",
    "    else:\n",
    "        return False"
   ]
  },
  {
   "cell_type": "code",
   "execution_count": null,
   "id": "75f7cb6e-2801-4aea-aac4-78364df5a61e",
   "metadata": {},
   "outputs": [],
   "source": [
    "def xor(a: bool, b: bool):\n",
    "    if a + b == 1:\n",
    "        return True\n",
    "    else:\n",
    "        return False"
   ]
  },
  {
   "cell_type": "code",
   "execution_count": 6,
   "id": "6d842b1e-f834-4fd4-bf6c-a631616ebf0d",
   "metadata": {},
   "outputs": [
    {
     "data": {
      "text/plain": [
       "True"
      ]
     },
     "execution_count": 6,
     "metadata": {},
     "output_type": "execute_result"
    }
   ],
   "source": [
    "def xor(a: bool, b: bool):\n",
    "    if a != b:\n",
    "        return True\n",
    "    else:\n",
    "        return False\n",
    "\n",
    "xor(True,False)"
   ]
  },
  {
   "cell_type": "code",
   "execution_count": 7,
   "id": "9f841b0e-f4fd-430d-9d76-dc6ed77e0f22",
   "metadata": {},
   "outputs": [
    {
     "data": {
      "text/plain": [
       "True"
      ]
     },
     "execution_count": 7,
     "metadata": {},
     "output_type": "execute_result"
    }
   ],
   "source": [
    "def xor(a: bool, b: bool):\n",
    "    return a != b\n",
    "\n",
    "xor(True,False)"
   ]
  },
  {
   "cell_type": "code",
   "execution_count": 9,
   "id": "676bef1b-1da7-4d65-852a-2de4840db308",
   "metadata": {},
   "outputs": [
    {
     "name": "stdout",
     "output_type": "stream",
     "text": [
      "True\n"
     ]
    }
   ],
   "source": [
    "a = True\n",
    "b = False\n",
    "\n",
    "print(a!=b)"
   ]
  }
 ],
 "metadata": {
  "kernelspec": {
   "display_name": "masterds",
   "language": "python",
   "name": "masterds"
  },
  "language_info": {
   "codemirror_mode": {
    "name": "ipython",
    "version": 3
   },
   "file_extension": ".py",
   "mimetype": "text/x-python",
   "name": "python",
   "nbconvert_exporter": "python",
   "pygments_lexer": "ipython3",
   "version": "3.11.11"
  }
 },
 "nbformat": 4,
 "nbformat_minor": 5
}
